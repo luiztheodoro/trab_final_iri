{
 "metadata": {
  "language_info": {
   "codemirror_mode": {
    "name": "ipython",
    "version": 3
   },
   "file_extension": ".py",
   "mimetype": "text/x-python",
   "name": "python",
   "nbconvert_exporter": "python",
   "pygments_lexer": "ipython3",
   "version": "3.6.12-final"
  },
  "orig_nbformat": 2,
  "kernelspec": {
   "name": "python3",
   "display_name": "Python 3"
  }
 },
 "nbformat": 4,
 "nbformat_minor": 2,
 "cells": [
  {
   "cell_type": "code",
   "execution_count": null,
   "metadata": {},
   "outputs": [],
   "source": [
    "# Item 3"
   ]
  },
  {
   "cell_type": "code",
   "execution_count": 3,
   "metadata": {},
   "outputs": [],
   "source": [
    "from gensim import models"
   ]
  },
  {
   "cell_type": "code",
   "execution_count": null,
   "metadata": {},
   "outputs": [],
   "source": [
    "## Word2Vec"
   ]
  },
  {
   "cell_type": "code",
   "execution_count": 4,
   "metadata": {},
   "outputs": [],
   "source": [
    "model_w2v = models.Word2Vec.load('/home/luiztheodoro/Documentos/mestrado/iri/trab_final/wikileaks.w2v')"
   ]
  },
  {
   "source": [
    "### Print the 10 most similar words"
   ],
   "cell_type": "markdown",
   "metadata": {}
  },
  {
   "cell_type": "code",
   "execution_count": 10,
   "metadata": {},
   "outputs": [
    {
     "output_type": "stream",
     "name": "stdout",
     "text": [
      "[('ypfb', 0.7685689330101013), ('repsol', 0.7596749067306519), ('gabrielli', 0.7440158724784851), ('pdvsa', 0.7342419624328613), ('encana', 0.7228498458862305), ('petroecuador', 0.707996129989624), ('cerro', 0.703402042388916), ('transrede', 0.7020080089569092), ('vierma', 0.7017861008644104), ('martignoni', 0.7013539671897888)]\n"
     ]
    }
   ],
   "source": [
    "querystring=input()\n",
    "try:\n",
    "    print(model_w2v.wv.most_similar(positive=querystring.split(), topn=10))\n",
    "except KeyError as e:\n",
    "    print(e)"
   ]
  },
  {
   "source": [
    "## FastText"
   ],
   "cell_type": "markdown",
   "metadata": {}
  },
  {
   "cell_type": "code",
   "execution_count": 7,
   "metadata": {},
   "outputs": [],
   "source": [
    "model_ft = models.FastText.load('/home/luiztheodoro/Documentos/mestrado/iri/trab_final/wikileaks.ft')"
   ]
  },
  {
   "cell_type": "code",
   "execution_count": null,
   "metadata": {},
   "outputs": [],
   "source": [
    "### Print the 10 most similar words"
   ]
  },
  {
   "cell_type": "code",
   "execution_count": 9,
   "metadata": {},
   "outputs": [
    {
     "output_type": "stream",
     "name": "stdout",
     "text": [
      "[('petrobra', 0.9670397639274597), ('eletrobra', 0.8524951934814453), ('petrobono', 0.8478670120239258), ('petroba', 0.8269442319869995), ('petroboscan', 0.7917608618736267), ('petrogas', 0.7856677770614624), ('petrosa', 0.7643005847930908), ('petroecuador', 0.7601346373558044), ('petrosur', 0.7503544092178345), ('petroglyph', 0.7483271360397339)]\n"
     ]
    }
   ],
   "source": [
    "querystring=input()\n",
    "try:\n",
    "    print(model_ft.wv.most_similar(positive=querystring.split(), topn=10))\n",
    "except KeyError as e:\n",
    "    print(e)"
   ]
  }
 ]
}