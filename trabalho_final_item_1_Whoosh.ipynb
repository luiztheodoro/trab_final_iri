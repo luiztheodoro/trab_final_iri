{
 "cells": [
  {
   "cell_type": "code",
   "execution_count": 1,
   "metadata": {},
   "outputs": [],
   "source": [
    "import whoosh\n",
    "import datetime\n",
    "import os\n",
    "from cablemap.core import cables_from_source"
   ]
  },
  {
   "cell_type": "code",
   "execution_count": 2,
   "metadata": {},
   "outputs": [],
   "source": [
    "from whoosh.index import create_in, open_dir\n",
    "from whoosh.fields import *\n",
    "from whoosh.analysis import CharsetFilter, StemmingAnalyzer\n",
    "from whoosh.writing import AsyncWriter\n",
    "from whoosh.qparser import QueryParser\n",
    "from whoosh import fields, sorting\n",
    "from whoosh.support.charset import accent_map\n",
    "from IPython.core.display import display, HTML"
   ]
  },
  {
   "cell_type": "code",
   "execution_count": 3,
   "metadata": {},
   "outputs": [],
   "source": [
    "index_path='/media/luiztheodoro/HD1T/mestrado/data/iri/indexdir'\n",
    "ix = open_dir(index_path)"
   ]
  },
  {
   "cell_type": "code",
   "execution_count": 5,
   "metadata": {},
   "outputs": [
    {
     "output_type": "display_data",
     "data": {
      "text/plain": "<IPython.core.display.HTML object>",
      "text/html": "(TELEGRAM 224456) <b>2009-09-10 14:01:00: </bCasa Civil Minister <b class=\"match term0\">Dilma</b> \nRousseff into the...lukewarm support for <b class=\"match term0\">Dilma</b> in the \npresidential...End summary. \n \n<b class=\"match term0\">Dilma</b>, Jose, <b class=\"match term1\">Petrobras</b>, and Pre-Salt \n------------------------------------ \n \n2"
     },
     "metadata": {}
    },
    {
     "output_type": "display_data",
     "data": {
      "text/plain": "<IPython.core.display.HTML object>",
      "text/html": "(TELEGRAM 67693) <b>2006-06-12 18:51:00: </bas President of <b class=\"match term1\">Petrobras</b>' Board of Directors...assurances from <b class=\"match term1\">Petrobras</b> International...2. (SBU) Although <b class=\"match term1\">Petrobras</b> is majority owned"
     },
     "metadata": {}
    },
    {
     "output_type": "display_data",
     "data": {
      "text/plain": "<IPython.core.display.HTML object>",
      "text/html": "(TELEGRAM 226817) <b>2009-09-24 17:33:00: </b3.  (SBU) Minister <b class=\"match term0\">Dilma</b> Rousseff was originally...her - largely due to <b class=\"match term0\">Dilma</b>'s \ninability to retain...candidate, if \n<b class=\"match term0\">Dilma</b> stumbles or is unable"
     },
     "metadata": {}
    },
    {
     "output_type": "display_data",
     "data": {
      "text/plain": "<IPython.core.display.HTML object>",
      "text/html": "(TELEGRAM 65698) <b>2006-05-26 17:58:00: </bGOE \nhad contacted <b class=\"match term1\">Petrobras</b> about helping...sectors, but <b class=\"match term1\">Petrobras</b> emphatically...made ref A points to <b class=\"match term1\">Petrobras</b> \nInternational"
     },
     "metadata": {}
    },
    {
     "output_type": "display_data",
     "data": {
      "text/plain": "<IPython.core.display.HTML object>",
      "text/html": "(TELEGRAM 246552) <b>2010-02-01 15:26:00: </bLULA, <b class=\"match term2\">PETROBRAS</b>, AND GENERAL ELECTRIC...candidate <b class=\"match term0\">Dilma</b> Rousseff, Mines and...event, that GE and \n<b class=\"match term1\">Petrobras</b> will partner"
     },
     "metadata": {}
    },
    {
     "output_type": "display_data",
     "data": {
      "text/plain": "<IPython.core.display.HTML object>",
      "text/html": "(TELEGRAM 123829) <b>2007-09-27 18:23:00: </bDIRECTORSHIPS AT <b class=\"match term2\">PETROBRAS</b> BECOMING INCREASINGLY...Involved in the <b class=\"match term1\">Petrobras</b> struggle are...Struggles over <b class=\"match term1\">Petrobras</b> Directorships"
     },
     "metadata": {}
    },
    {
     "output_type": "display_data",
     "data": {
      "text/plain": "<IPython.core.display.HTML object>",
      "text/html": "(TELEGRAM 223030) <b>2009-08-31 17:05:00: </bChief of Staff <b class=\"match term0\">Dilma</b> Rousseff called this...General Jones that <b class=\"match term1\">Petrobras</b> wants and needs...Reftel D and F).  <b class=\"match term1\">Petrobras</b>' \nCFO Barbossa"
     },
     "metadata": {}
    },
    {
     "output_type": "display_data",
     "data": {
      "text/plain": "<IPython.core.display.HTML object>",
      "text/html": "(TELEGRAM 149966) <b>2008-04-15 19:16:00: </bthan those \nwhere <b class=\"match term1\">Petrobras</b>, Shell and Devon...block, just south of <b class=\"match term1\">Petrobras</b>' Carioca block...<b class=\"match term0\">Dilma</b> Rousseff, <b class=\"match term1\">Petrobras</b> is shifting resources"
     },
     "metadata": {}
    },
    {
     "output_type": "display_data",
     "data": {
      "text/plain": "<IPython.core.display.HTML object>",
      "text/html": "(TELEGRAM 160767) <b>2008-07-03 18:40:00: </brelationships with <b class=\"match term1\">Petrobras</b> in Rio.  Secretary...may come down to \n<b class=\"match term0\">Dilma</b>.  <b class=\"match term0\">Dilma</b> Rouseff, as former...of the Board of <b class=\"match term1\">Petrobras</b>, as well as Presidential"
     },
     "metadata": {}
    },
    {
     "output_type": "display_data",
     "data": {
      "text/plain": "<IPython.core.display.HTML object>",
      "text/html": "(TELEGRAM 77328) <b>2006-09-06 14:08:00: </b1. (SBU) Summary: <b class=\"match term1\">Petrobras</b> CEO Sergio Gabrielli...addresses bio-fuels, <b class=\"match term1\">Petrobras</b> and the \ninvestment...bad blood between <b class=\"match term1\">Petrobras</b> and PDVSA, <b class=\"match term1\">Petrobras</b> \nPresident Gabrielli"
     },
     "metadata": {}
    }
   ],
   "source": [
    "querystring=input()\n",
    "parser = QueryParser(\"content\", ix.schema)\n",
    "query = parser.parse(querystring)\n",
    "with ix.searcher() as searcher:\n",
    "    results = searcher.search(query, limit=10)\n",
    "    for j, hit in enumerate(results):\n",
    "        tid = hit.fields()[\"index\"]\n",
    "        tdate = hit.fields()[\"created\"]\n",
    "        display(HTML(f'(TELEGRAM {tid}) <b>{tdate}: </b' + hit.highlights(\"content\")))"
   ]
  },
  {
   "cell_type": "code",
   "execution_count": 6,
   "metadata": {},
   "outputs": [
    {
     "output_type": "stream",
     "name": "stdout",
     "text": [
      "{'unclassified': 6756, 'secret': 4513, 'confidential': 11591, 'use': 2904, 'noforn': 726}\n{'MASS': 2, 'PTER': 1706, 'XF': 308, 'PINT': 4, 'US': 231, 'PEPR': 1, 'TU': 2463, 'UR': 14, 'SHUM': 2, 'SY': 1251, 'SU': 99, 'SCOM': 1, 'SA': 302, 'SO': 41, 'XA': 24, 'PK': 28, 'TC': 234, 'PREL': 7103, 'USUN': 16, 'SOCI': 297, 'MOPS': 4, 'UNSC': 910, 'PINS': 76, 'OPRC': 1081, 'UK': 319, 'ZI': 90, 'JA': 2, 'TI': 144, 'PINR': 455, 'XI': 11, 'TS': 57, 'VT': 88, 'UNHRC': 8, 'U': 26, 'VM': 86, 'VTIT': 1, 'SA-DOBBINS': 1, 'VTEG': 1, 'UNHRC-1': 92, 'XD': 13, 'RS': 625, 'WTO': 3, 'UN': 422, 'FAO': 1, 'SENV': 171, 'KMDR': 89, 'UNGA': 340, 'WHO': 13, 'WFP': 32, 'JO': 3, 'UP': 100, 'WFPAORC': 2, 'TSPL': 44, 'KPAO': 3, 'TH': 42, 'USTR': 94, 'TURKEY': 27, 'TFUS03': 6, 'KU': 32, 'RELATIONS': 105, 'IT': 17, 'KUNR': 4, 'PARM': 379, 'YM': 172, 'ECON': 3, 'YE': 16, 'NL': 15, 'WAR': 1, 'PGOV': 468, 'PHUM': 118, 'TPHY': 13, 'SECURITY': 12, 'XG': 48, 'IBPCA': 1, 'SF': 50, 'SP': 185, 'OIIP': 245, 'UNGA/C-3': 9, 'SNAR': 235, 'USEU': 46, 'ENRG': 10, 'EPET': 14, 'REPORT': 255, 'ON': 3, 'ASEC': 13, 'VE': 253, 'TRGY': 259, 'SPANISH': 2, 'QA': 138, 'S': 2, 'EXPORT': 1, 'SCUL': 85, 'TRADE': 4, 'SR': 32, 'ETRD': 25, 'TSPA': 100, 'NZ': 2, 'ZL': 42, 'IR': 34, 'PROG': 5, 'TBIO': 37, 'WITH': 3, 'TW': 287, 'ZR': 22, 'XM': 14, 'GG': 2, 'RIGHTS': 8, 'PROCESS': 2, 'KTDB': 8, 'SETTLEMENTS': 3, 'WORKING': 1, 'TURKMEN': 1, 'PUBLIC': 7, 'TERRORISM': 24, 'KMPIO': 1, 'POLITICAL': 2, 'TRAFFICKING': 3, 'SPAIN': 1, 'VISIT': 5, 'SECTOR': 19, 'WOMEN': 5, 'SOCIETY': 3, 'MU': 7, 'VISITS': 8, 'STEPHANE': 1, 'THAILAND': 2, 'SCENESETTER': 2, 'SOLI': 1, 'POLITICS': 3, 'TO': 8, 'PBTS': 1, 'PREF': 39, 'TX': 445, 'US-ALGERIAN': 1, 'ZP': 25, 'WTRO': 9, 'PHSA': 1, 'SN': 68, 'SI': 46, 'RECONSTRUCTION': 4, 'YI': 99, 'KTIA': 1, 'UNION': 1, 'REGIONAL': 1, 'SUNNI': 19, 'INDO-US': 1, 'UNESCO': 37, 'PROLIFERATION': 2, 'WE': 10, 'UNITED': 4, 'THEMES': 5, 'UNICEF': 3, 'UZ': 131, 'REACTION': 166, 'ZK': 58, 'KZ': 7, 'XL': 41, 'ZIMBABWE': 1, 'SHIA': 11, 'PARLIAMENT': 8, 'IZ': 49, 'VIEWS': 3, 'KSTH': 1, 'REPORTS': 1, 'SHI': 11, 'SADDAM': 2, 'FR': 3, 'SUMMARIES': 3, 'ETTC': 16, 'PTEL': 1, 'UNHCR': 11, 'RICE,': 10, 'REFORM': 13, 'WSIS': 1, 'WI': 14, 'MILLENNIUM': 1, 'UNHCR-1': 11, 'SUCCESSION': 1, 'PNAT': 13, 'OSD': 26, 'REGION': 115, 'SAUDI-IRAN': 2, 'TRIAL': 1, 'PROP': 21, 'SAUDI-IRAQ': 2, 'TERRRORISM': 1, 'SG': 40, 'PROTECTION': 1, 'NO': 3, 'UY': 30, 'ROW': 9, 'TZ': 31, 'RO': 27, 'UNCND': 5, 'KNNP': 70, 'VIRUS': 2, 'XH': 12, 'NI': 1, 'KPAL': 2, 'SW': 110, 'TIP': 4, 'EFIN': 10, 'TT': 9, 'KWBG': 6, 'SMIG': 71, 'US-THAI': 1, 'TR': 7, 'XZ': 3, 'SECRETARY': 1, 'XR': 56, None: 10, 'SZ': 76, 'XE': 14, 'LE': 1, 'OVIP': 7, 'VOA': 1, 'BBG': 1, 'UNGA/C-5': 14, 'WMD': 3, 'SL': 22, 'UNSD': 2, 'GY': 1, 'VZ': 15, 'PUNR': 2, 'TERROR': 2, 'UNCHR-1': 1, 'EWWT': 1, 'UNAUS': 9, 'TK': 7, 'ELTN': 2, 'SE': 5, 'USNC': 7, 'TD': 2, 'KBCT': 2, 'RP': 11, 'USAID': 3, 'POL': 8, 'HK': 11, 'UNUNSC': 1, 'E': 1, 'UNRCR-1': 1, 'TERR': 2, 'APER': 2, 'USSC': 1, 'YS': 1, 'UNSCR': 8, 'ZO': 7, 'IN': 4, 'RODMAN': 1, 'OTRA': 53, 'PL': 4, 'RI': 1, 'MO': 2, 'MNUC': 58, 'TN': 2, 'GART': 2, 'VY': 1, 'UNIFIL': 2, 'XY': 7, 'ZU': 7, 'XV': 5, 'UNDP': 3, 'PRER': 1, 'XX': 2, 'PA': 2, 'MTCRE': 1, 'GM': 5, 'NU': 7, 'RW': 12, 'ID': 1, 'WEU': 1, 'KCOR': 1, 'PM': 2, 'KG': 1, 'UNO': 7, 'PE': 2, 'PO': 7, 'MK': 1, 'START': 4, 'UG': 7, 'KTFN': 9, 'KOMC': 12, 'LT': 1, 'REALTIONS': 1, 'KNPP': 5, 'PAO': 3, 'MY': 15, 'TV': 4, 'SAARC': 2, 'CHANGE': 1, 'GR': 3, 'XB': 8, 'XW': 12, 'QEGION': 1, 'ZJ': 8, 'EG': 1, 'TSRL': 1, 'MX': 2, 'XK': 4, 'SERZH': 1, 'UNGA/C-6': 27, 'ZA': 10, 'LY': 2, 'TTFN': 1, 'KNPPIS': 1, 'EUN': 11, 'NATO': 1, 'HU': 1, 'TREL': 1, 'OSCE': 1, 'ROK': 1, 'UNCTAD': 2, 'KFTN': 1, 'ZB': 6, 'EU': 6, 'ROBERT': 2, 'OFDP': 1, 'NOFORN': 1, 'XO': 3, 'PRGO': 2, 'KHUM': 1, 'QIS': 1, 'UNVIE': 3, 'TPSA': 1, 'ZS': 3, 'EINT': 2, 'UM': 1, 'ADDED': 1, 'USOSCE': 2, 'GE': 1, 'UV': 11, 'UNODC': 7, 'TGRY': 2, 'PRELZ': 1, 'TREAS': 1, 'ENGR': 1, 'UNCRIME': 1, 'KCRM': 1, 'PREZ': 1, 'RICHARD': 1, 'KMCA': 1, 'WMO': 2, 'STATE': 1, 'XS': 6, 'WA': 13, 'SK': 2, 'UNGA/C-1': 19, 'PRELM': 1, 'KIPR': 1, 'USDOC': 1, 'UNPUOS': 3, 'UNEP': 1, 'NKKP': 1, 'FAS': 1, 'WZ': 1, 'BL': 1, 'SAIS': 1, 'RAMOS-HORTA,': 1, 'USAU': 5, 'SV': 1, 'XT': 2, 'OREP': 1, 'XC': 2, 'TAUSCHER': 1, 'STEINBERG,': 9, 'ZM': 1, 'SHANNON': 1, 'UAE': 1, 'KFRD': 9, 'UNFICYP': 1, 'ZF': 1, 'EAID': 2, 'IS': 2, 'CMGT': 1, 'VIP': 1, 'QT': 2, 'T': 1, 'SUSAN': 1, 'MTS': 1, 'WIPO': 3, 'MG': 1, 'AMGT': 1, 'TFH01': 2, 'KS': 1, 'KN': 1, 'XP': 3, 'OIC': 1, 'SM': 1, 'ECIN': 1, 'TNGD': 1, 'PAR': 1, 'WS': 1, 'UNCITRAL': 2, 'PPD': 1, 'PRELOV': 1, 'UKXG': 1, 'PUNE': 3, 'PRM': 1, 'UNRWA': 1, 'VN': 1, 'UNIDO': 2, 'TY': 1, 'WILLIAM': 3, 'MV': 1, 'KICA': 1, 'TRSY': 1, 'TINT': 2, 'WB': 1, 'PRE': 1, 'DEAX': 1, 'EINV': 2, 'PSTRONSKI': 1, 'UA': 1, 'PS': 1}\n"
     ]
    }
   ],
   "source": [
    "querystring=input()\n",
    "parser = QueryParser(\"content\", ix.schema)\n",
    "query = parser.parse(querystring)\n",
    "facets = sorting.Facets()\n",
    "facets.add_field(\"tags\")\n",
    "facets.add_field(\"classification\")\n",
    "with ix.searcher() as searcher:\n",
    "    results = searcher.search(query, \\\n",
    "                              limit=10, \\\n",
    "                              groupedby=facets, \\\n",
    "                              maptype=sorting.Count)\n",
    "    print(results.groups(\"classification\"))\n",
    "    print(results.groups(\"tags\"))"
   ]
  }
 ],
 "metadata": {
  "kernelspec": {
   "name": "python3",
   "display_name": "Python 3.6.12 64-bit ('iri_env': conda)",
   "metadata": {
    "interpreter": {
     "hash": "05dfafa0d00453c6b233148cedf63373b6afacb3bfe4901b17109c02aa349639"
    }
   }
  },
  "language_info": {
   "codemirror_mode": {
    "name": "ipython",
    "version": 3
   },
   "file_extension": ".py",
   "mimetype": "text/x-python",
   "name": "python",
   "nbconvert_exporter": "python",
   "pygments_lexer": "ipython3",
   "version": "3.6.12-final"
  }
 },
 "nbformat": 4,
 "nbformat_minor": 2
}